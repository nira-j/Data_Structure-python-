{
 "cells": [
  {
   "cell_type": "code",
   "execution_count": null,
   "metadata": {},
   "outputs": [],
   "source": [
    "import sys\n",
    "# print 1 to n using recursion\n",
    "\n",
    "def print_n(n):\n",
    "    if n == 1:\n",
    "        print(n)\n",
    "#         sys.stdout.write(str(n))\n",
    "        return\n",
    "    else :\n",
    "        print(n)\n",
    "#         sys.stdout.write(str(n))\n",
    "        print_n(n-1)\n",
    "        print(n)\n",
    "#         sys.stdout.write(str(n))\n",
    "        \n",
    "print_n(10)"
   ]
  },
  {
   "cell_type": "code",
   "execution_count": null,
   "metadata": {},
   "outputs": [],
   "source": [
    "lis = [1,2,3,4,5]\n",
    "n = len(lis)-1\n",
    "def sum(n):\n",
    "    if n == 0:\n",
    "        return 1\n",
    "    else:\n",
    "        return lis[n] + sum(n-1)\n",
    "    \n",
    "out = sum(4)\n",
    "print(out)"
   ]
  },
  {
   "cell_type": "code",
   "execution_count": null,
   "metadata": {},
   "outputs": [],
   "source": [
    "s = \"niraj\"\n",
    "l = []\n",
    "n = len(s)-1\n",
    "def symetric(string, n):\n",
    "    if n == 0:\n",
    "        return string[n] \n",
    "    else:\n",
    "        return  symetric(string, n-1) + string[n]\n",
    "   \n",
    "\n",
    "print(symetric(s, n))\n",
    "    \n",
    "    "
   ]
  },
  {
   "cell_type": "code",
   "execution_count": 38,
   "metadata": {},
   "outputs": [
    {
     "name": "stdout",
     "output_type": "stream",
     "text": [
      "enter your password: niraj!223\n"
     ]
    },
    {
     "data": {
      "text/plain": [
       "False"
      ]
     },
     "execution_count": 38,
     "metadata": {},
     "output_type": "execute_result"
    }
   ],
   "source": [
    "from passlib.hash import pbkdf2_sha256 as hasher\n",
    "password=\"niraj\"\n",
    "hashed=hasher.hash(password)\n",
    "# hashed\n",
    "pass_=input(\"enter your password: \")\n",
    "hasher.verify(pass_, hashed)"
   ]
  }
 ],
 "metadata": {
  "kernelspec": {
   "display_name": "Python 3",
   "language": "python",
   "name": "python3"
  },
  "language_info": {
   "codemirror_mode": {
    "name": "ipython",
    "version": 3
   },
   "file_extension": ".py",
   "mimetype": "text/x-python",
   "name": "python",
   "nbconvert_exporter": "python",
   "pygments_lexer": "ipython3",
   "version": "3.8.3"
  }
 },
 "nbformat": 4,
 "nbformat_minor": 4
}
