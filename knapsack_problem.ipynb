{
 "cells": [
  {
   "cell_type": "code",
   "execution_count": 12,
   "metadata": {},
   "outputs": [
    {
     "name": "stdout",
     "output_type": "stream",
     "text": [
      "70\n"
     ]
    }
   ],
   "source": [
    "# Knapsack_problem\n",
    "# capacity of knapsack\n",
    "W = 7\n",
    "\n",
    "items = {\n",
    "    'wt': [3,4,5,6,7],\n",
    "    'val': [30,40,25,23,28]\n",
    "}\n",
    "n=len(items['wt'])-1\n",
    "def knapsack(items,W,n):\n",
    "    if n==0 or W==0:\n",
    "        return items['val'][n]\n",
    "    elif items['wt'][n] <= W:\n",
    "        val=items['val'][n]\n",
    "        return max((val+knapsack(items,(W-items['wt'][n]), n-1)),knapsack(items,W, n-1))\n",
    "                   \n",
    "    elif items['wt'][n] > W:\n",
    "        return knapsack(items, W, n-1)\n",
    "o=knapsack(items, W, n)\n",
    "print(o)"
   ]
  },
  {
   "cell_type": "code",
   "execution_count": 96,
   "metadata": {},
   "outputs": [],
   "source": [
    "class Node:\n",
    "    def __init__(self, n,connection):\n",
    "        self.name = n\n",
    "        self.connection=connection\n",
    "        \n",
    "    def get_name(self):\n",
    "        return self.name\n",
    "    \n",
    "    def get_min_cost_node(self):\n",
    "        self.connection\n",
    "        nodes=list(self.connection.keys())\n",
    "        costs=list(self.connection.values())\n",
    "        m=min(costs)\n",
    "        n=nodes[costs.index(m)]\n",
    "        return n,m\n",
    "   \n",
    "\n",
    "\n",
    "def myfun(node):\n",
    "    if node.name==\"C\":\n",
    "        visited.append(node.name)\n",
    "        return 0\n",
    "    if node.name not in visited:\n",
    "        visited.append(node.name)\n",
    "        n,c=node.get_min_cost_node()\n",
    "        return c + myfun(d[n])\n",
    "\n",
    "        \n",
    "node1=Node(\"A\",{\"B\":1,\"E\":4,\"D\":5})\n",
    "node2=Node(\"B\",{\"E\":3,\"C\":6})\n",
    "node3=Node(\"C\",{\"E\":7,\"D\":2,\"B\":6})\n",
    "node4=Node(\"D\",{\"A\":5,\"C\":2})\n",
    "node5=Node(\"E\",{\"C\":7})\n",
    "\n",
    "\n",
    "\n",
    "d={\"A\": node1,\"B\": node2,\"C\": node3,\"D\": node4,\"E\":node5}\n",
    "visited=[]\n",
    "\n",
    "# node3.get_min_cost_node()\n"
   ]
  },
  {
   "cell_type": "code",
   "execution_count": 97,
   "metadata": {},
   "outputs": [
    {
     "data": {
      "text/plain": [
       "11"
      ]
     },
     "execution_count": 97,
     "metadata": {},
     "output_type": "execute_result"
    }
   ],
   "source": [
    "myfun(node1)"
   ]
  },
  {
   "cell_type": "code",
   "execution_count": 98,
   "metadata": {},
   "outputs": [
    {
     "data": {
      "text/plain": [
       "['A', 'B', 'E', 'C']"
      ]
     },
     "execution_count": 98,
     "metadata": {},
     "output_type": "execute_result"
    }
   ],
   "source": [
    "visited"
   ]
  }
 ],
 "metadata": {
  "kernelspec": {
   "display_name": "Python 3",
   "language": "python",
   "name": "python3"
  },
  "language_info": {
   "codemirror_mode": {
    "name": "ipython",
    "version": 3
   },
   "file_extension": ".py",
   "mimetype": "text/x-python",
   "name": "python",
   "nbconvert_exporter": "python",
   "pygments_lexer": "ipython3",
   "version": "3.8.3"
  }
 },
 "nbformat": 4,
 "nbformat_minor": 4
}
