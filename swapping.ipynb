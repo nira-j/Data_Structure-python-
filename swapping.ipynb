{
 "cells": [
  {
   "cell_type": "code",
   "execution_count": 3,
   "metadata": {},
   "outputs": [
    {
     "name": "stdout",
     "output_type": "stream",
     "text": [
      "a and b: 123,345\n",
      "after swapping: \n",
      "a and b: 345,123\n"
     ]
    }
   ],
   "source": [
    "# swapping using third variable\n",
    "\n",
    "a=123\n",
    "b=345\n",
    "print(f\"a and b: {a},{b}\")\n",
    "\n",
    "print(\"after swapping: \")\n",
    "temp = a\n",
    "a = b\n",
    "b=temp\n",
    "print(f\"a and b: {a},{b}\")"
   ]
  },
  {
   "cell_type": "code",
   "execution_count": 8,
   "metadata": {},
   "outputs": [
    {
     "name": "stdout",
     "output_type": "stream",
     "text": [
      "a and b: 12,34\n",
      "after swapping: \n",
      "a and b: 34,12\n"
     ]
    }
   ],
   "source": [
    "# swapping without using\n",
    "a=12\n",
    "b=34\n",
    "print(f\"a and b: {a},{b}\")\n",
    "print(\"after swapping: \")\n",
    "a = a ^ b\n",
    "b = a ^ b\n",
    "a = a ^ b\n",
    "\n",
    "print(f\"a and b: {a},{b}\")"
   ]
  },
  {
   "cell_type": "code",
   "execution_count": 18,
   "metadata": {},
   "outputs": [
    {
     "name": "stdout",
     "output_type": "stream",
     "text": [
      "{1, 2, 3, 4, 5, 6, 7, 8, 9}\n",
      "[1 3 2 2 3 2 2 1 2 0 0 0 0 0 0 0 0 0]\n"
     ]
    }
   ],
   "source": [
    "\n",
    "import numpy as np\n",
    "li=[1,2,3,4,5,2,2,3,4,5,6,7,8,9,9,7,6,5]\n",
    "has=np.array([0]*len(li))\n",
    "for i in range(len(li)):\n",
    "    has[li[i]-1] += 1\n",
    "\n",
    "uni=set(li)\n",
    "# for i in range()\n",
    "print(uni)\n",
    "print(has)"
   ]
  }
 ],
 "metadata": {
  "kernelspec": {
   "display_name": "Python 3",
   "language": "python",
   "name": "python3"
  },
  "language_info": {
   "codemirror_mode": {
    "name": "ipython",
    "version": 3
   },
   "file_extension": ".py",
   "mimetype": "text/x-python",
   "name": "python",
   "nbconvert_exporter": "python",
   "pygments_lexer": "ipython3",
   "version": "3.8.3"
  }
 },
 "nbformat": 4,
 "nbformat_minor": 4
}
