{
 "cells": [
  {
   "cell_type": "code",
   "execution_count": 2,
   "metadata": {},
   "outputs": [
    {
     "data": {
      "text/plain": [
       "[['A1', 0, 6],\n",
       " ['A2', 3, 4],\n",
       " ['A3', 1, 2],\n",
       " ['A4', 5, 9],\n",
       " ['A5', 5, 7],\n",
       " ['A6', 8, 9]]"
      ]
     },
     "execution_count": 2,
     "metadata": {},
     "output_type": "execute_result"
    }
   ],
   "source": [
    "db=[['A1', 0, 6],['A2', 3, 4],['A3', 1 ,2],['A4', 5, 9],['A5', 5, 7],['A6', 8, 9]]\n",
    "db"
   ]
  },
  {
   "cell_type": "code",
   "execution_count": 26,
   "metadata": {},
   "outputs": [
    {
     "data": {
      "text/plain": [
       "[['A3', 1, 2],\n",
       " ['A2', 3, 4],\n",
       " ['A1', 0, 6],\n",
       " ['A5', 5, 7],\n",
       " ['A4', 5, 9],\n",
       " ['A6', 8, 9]]"
      ]
     },
     "execution_count": 26,
     "metadata": {},
     "output_type": "execute_result"
    }
   ],
   "source": [
    "# step 1 sort the activities based on finish time\n",
    "db.sort(key=lambda x: x[2])\n",
    "db\n",
    "\n"
   ]
  },
  {
   "cell_type": "code",
   "execution_count": 29,
   "metadata": {},
   "outputs": [
    {
     "name": "stdout",
     "output_type": "stream",
     "text": [
      "['A3', 1, 2]\n",
      "['A2', 3, 4]\n",
      "['A5', 5, 7]\n",
      "['A6', 8, 9]\n"
     ]
    }
   ],
   "source": [
    "# Iterative approach\n",
    "def activity_selection(db):\n",
    "    i=0\n",
    "    activity_list = []\n",
    "    activity_list.append(db[i])\n",
    "    for j in range(1, len(db)):\n",
    "        if db[j][1] >= db[i][2]:\n",
    "            activity_list.append(db[j])\n",
    "            i=j\n",
    "    return activity_list\n",
    "\n",
    "for activity in activity_selection(db):\n",
    "    print(activity)    \n",
    "    #     print(activity[0],end=\" \")\n",
    "        "
   ]
  },
  {
   "cell_type": "code",
   "execution_count": 34,
   "metadata": {},
   "outputs": [
    {
     "name": "stdout",
     "output_type": "stream",
     "text": [
      "['A3', 1, 2]\n",
      "['A2', 3, 4]\n",
      "['A5', 5, 7]\n",
      "['A6', 8, 9]\n"
     ]
    }
   ],
   "source": [
    "# Recursive approach\n",
    "l=len(db)\n",
    "n=1\n",
    "i=0\n",
    "activity=[]\n",
    "activity.append(db[0])\n",
    "def activity_selection(db,n,l,i,activity):\n",
    "    if n==l:\n",
    "        return\n",
    "    elif db[n][1]>=db[i][2]:\n",
    "        i=n\n",
    "        activity.append(db[n])\n",
    "        activity_selection(db,n+1,l,i,activity)\n",
    "    else:\n",
    "        activity_selection(db,n+1,l,i,activity)\n",
    "    return activity\n",
    "\n",
    "act=activity_selection(db,n,l,i,activity)\n",
    "for i in act:\n",
    "    print(i)\n",
    "        "
   ]
  },
  {
   "cell_type": "code",
   "execution_count": null,
   "metadata": {},
   "outputs": [],
   "source": [
    "# without sort activity problem\n",
    "db=[['A1', 0, 6],['A2', 3, 4],['A3', 1 ,2],['A4', 5, 9],['A5', 5, 7],['A6', 8, 9]]\n",
    "db"
   ]
  }
 ],
 "metadata": {
  "kernelspec": {
   "display_name": "Python 3",
   "language": "python",
   "name": "python3"
  },
  "language_info": {
   "codemirror_mode": {
    "name": "ipython",
    "version": 3
   },
   "file_extension": ".py",
   "mimetype": "text/x-python",
   "name": "python",
   "nbconvert_exporter": "python",
   "pygments_lexer": "ipython3",
   "version": "3.8.3"
  }
 },
 "nbformat": 4,
 "nbformat_minor": 4
}
