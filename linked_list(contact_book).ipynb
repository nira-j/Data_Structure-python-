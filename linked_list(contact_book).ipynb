{
 "cells": [
  {
   "cell_type": "code",
   "execution_count": 3,
   "metadata": {},
   "outputs": [],
   "source": [
    "class contact():\n",
    "    def __init__(self, name=None, mobile_no=None, birthday=None):\n",
    "        self.name = name\n",
    "        self.mobile_no = mobile_no\n",
    "        self.birthday = birthday\n",
    "        self.next = None\n",
    "        \n",
    "    def set_contact(self, name, mobile_no, birthday):\n",
    "        self.name = name\n",
    "        self.mobile_no = mobile_no\n",
    "        self.birthday = birthday\n",
    "        \n",
    "    def get_contact(self):\n",
    "        l = [self.name, self.mobile_no, self.birthday]\n",
    "        return l\n",
    "        \n",
    "    def get_next(self):     # return next link of contact\n",
    "        return self.next\n",
    "    \n",
    "    def set_next(self, next_):\n",
    "        self.next = next_\n",
    "      \n",
    "    def __str__(self):\n",
    "        return f\"{self.name}---> {self.mobile_no}---> {self.birthday}\"  \n",
    "        \n",
    "    "
   ]
  },
  {
   "cell_type": "code",
   "execution_count": 2,
   "metadata": {},
   "outputs": [],
   "source": [
    "class Contact_book():\n",
    "    def __init__(self, name=None,):\n",
    "        self.name = name\n",
    "        self.next = None\n",
    "        \n",
    "    def get_book_name(self):\n",
    "        return self.name\n",
    "    \n",
    "    def get_contact(self):\n",
    "        l = [self.name, self.mobile_no, self.birthday]\n",
    "        return l \n",
    "    \n",
    "    def add_contact(self, contact_):\n",
    "        if self.next == None:\n",
    "            self.next = contact_\n",
    "            print(\"added\")\n",
    "        else:\n",
    "            temp=self\n",
    "            while temp.next != None:\n",
    "                temp=temp.next\n",
    "            temp.next = contact_\n",
    "            \n",
    "    def contact_book(self):\n",
    "        temp = self.next\n",
    "        if temp == None:\n",
    "            return [-1]      # return -1 means contact list is empty\n",
    "        else:\n",
    "            l = []\n",
    "            while temp != None:\n",
    "                l.append(temp.get_contact())\n",
    "                temp = temp.next\n",
    "            return l\n",
    "                \n",
    "           \n",
    "    "
   ]
  },
  {
   "cell_type": "code",
   "execution_count": 9,
   "metadata": {},
   "outputs": [
    {
     "name": "stdout",
     "output_type": "stream",
     "text": [
      "[['niraj kumar', '8578452631', '04/09/1996'], ['vikash kumar', '8547962247', '01/04/1995'], ['puja bharti', '7825962247', '31/10/1996'], ['niraj kumar', '8578452631', '04/09/1996'], ['vikash kumar', '8547962247', '01/04/1995'], ['puja bharti', '7825962247', '31/10/1996'], ['niraj kumar', '8578452631', '04/09/1996'], ['vikash kumar', '8547962247', '01/04/1995'], ['puja bharti', '7825962247', '31/10/1996'], ['niraj kumar', '8578452631', '04/09/1996'], ['vikash kumar', '8547962247', '01/04/1995'], ['puja bharti', '7825962247', '31/10/1996'], ['niraj kumar', '8578452631', '04/09/1996'], ['vikash kumar', '8547962247', '01/04/1995'], ['puja bharti', '7825962247', '31/10/1996'], ['niraj kumar', '8578452631', '04/09/1996'], ['vikash kumar', '8547962247', '01/04/1995'], ['puja bharti', '7825962247', '31/10/1996']]\n"
     ]
    }
   ],
   "source": [
    "# book = Contact_book(\"mybook\")\n",
    "c1 = contact(\"niraj kumar\", \"8578452631\", \"04/09/1996\")\n",
    "c2 = contact(\"vikash kumar\", \"8547962247\", \"01/04/1995\")\n",
    "c3 = contact(\"puja bharti\", \"7825962247\", \"31/10/1996\")\n",
    "# print(book.get_book_name())\n",
    "book.add_contact(c1)\n",
    "book.add_contact(c2)\n",
    "book.add_contact(c3)\n",
    "print(book.contact_book())\n"
   ]
  },
  {
   "cell_type": "code",
   "execution_count": null,
   "metadata": {},
   "outputs": [],
   "source": [
    "for i in range(len(book)):\n",
    "    pri"
   ]
  }
 ],
 "metadata": {
  "kernelspec": {
   "display_name": "Python 3",
   "language": "python",
   "name": "python3"
  },
  "language_info": {
   "codemirror_mode": {
    "name": "ipython",
    "version": 3
   },
   "file_extension": ".py",
   "mimetype": "text/x-python",
   "name": "python",
   "nbconvert_exporter": "python",
   "pygments_lexer": "ipython3",
   "version": "3.8.3"
  }
 },
 "nbformat": 4,
 "nbformat_minor": 4
}
