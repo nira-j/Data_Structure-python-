{
 "cells": [
  {
   "cell_type": "code",
   "execution_count": 32,
   "metadata": {},
   "outputs": [],
   "source": [
    "#switch with port 8\n",
    "class switch:\n",
    "    def __init__(self, n):\n",
    "        self.port=[f\"p{i+1}\" for i in range(n)]\n",
    "        self.connection={}\n",
    "    \n",
    "    def createConnection(self,node,port):\n",
    "        self.connection[node.phy_add]=port\n",
    "            \n",
    "    def getConnection(self):\n",
    "        return self.connection\n",
    "    \n",
    "    def getPort(self,phy):\n",
    "        return self.connection[phy]\n"
   ]
  },
  {
   "cell_type": "code",
   "execution_count": 26,
   "metadata": {},
   "outputs": [],
   "source": [
    "class Node:\n",
    "    def __init__(self,phy_add,ip_add):\n",
    "        self.phy_add=phy_add\n",
    "        self.ip_add=ip_add\n",
    "        \n",
    "    def getIp(self):\n",
    "        return self.ip_add\n",
    "    \n",
    "    def getPhy(self):\n",
    "        return self.phy_add\n",
    "    \n",
    "        \n",
    "        "
   ]
  },
  {
   "cell_type": "code",
   "execution_count": 36,
   "metadata": {},
   "outputs": [
    {
     "data": {
      "text/plain": [
       "'p1'"
      ]
     },
     "execution_count": 36,
     "metadata": {},
     "output_type": "execute_result"
    }
   ],
   "source": [
    "s1=switch(8)\n",
    "n1=Node(\"MAC100\",\"IP200\")\n",
    "n2=Node(\"MAC101\",\"IP201\")\n",
    "\n",
    "s1.createConnection(n1,\"p1\")\n",
    "s1.createConnection(n2,\"p4\")\n",
    "\n",
    "s1.getConnection()\n",
    "s1.getPort(\"MAC100\")"
   ]
  }
 ],
 "metadata": {
  "kernelspec": {
   "display_name": "Python 3",
   "language": "python",
   "name": "python3"
  },
  "language_info": {
   "codemirror_mode": {
    "name": "ipython",
    "version": 3
   },
   "file_extension": ".py",
   "mimetype": "text/x-python",
   "name": "python",
   "nbconvert_exporter": "python",
   "pygments_lexer": "ipython3",
   "version": "3.8.3"
  }
 },
 "nbformat": 4,
 "nbformat_minor": 4
}
