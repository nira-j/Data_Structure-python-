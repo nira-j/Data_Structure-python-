{
 "cells": [
  {
   "cell_type": "code",
   "execution_count": 98,
   "metadata": {},
   "outputs": [],
   "source": [
    "# Graph traversal BFS and DFS\n",
    "\n",
    "mynetwork={ \n",
    "    \"niraj\": [\"puja\",\"rakhi\",\"ronit\",\"vikash\",\"suman\"],\n",
    "    \"puja\": [\"niraj\",\"rakhi\",\"jasmin\"],\n",
    "    \"jasmin\": [\"rakhi\",\"vikash\",\"ashwini\",\"archna\"],\n",
    "    \"ronit\": [\"sanju\",\"oppo\",\"niraj\",\"ranjit\",\"nigar\"],\n",
    "    \"vikash\": [\"ashwini\",\"niraj\",\"ranjit\",\"suman\"], \n",
    "    \"suman\": [\"niraj\",\"raghav\",\"vikash\"],\n",
    "    \"nigar\": [\"jasmin\",\"jojo\",\"eric\"],\n",
    "    \"tom\": [\"vikash\",\"niraj\",\"rahul\"],\n",
    "    \"rakhi\": [\"niraj\",\"abhi\"],\n",
    "    \"abhi\": [],\n",
    "    \"sanju\": [],\n",
    "    \"oppo\": [],\n",
    "    \"ranjit\": [],\n",
    "    \"ashwini\": [],\n",
    "    \"raghav\": [],\n",
    "    \"archna\": [],\n",
    "    \"jojo\": [],\n",
    "    \"rahul\": [],\n",
    "    \"eric\": []\n",
    "}\n"
   ]
  },
  {
   "cell_type": "code",
   "execution_count": 102,
   "metadata": {},
   "outputs": [],
   "source": [
    "class Graph:\n",
    "    def __init__(self,gdict=None):\n",
    "        self.gdict=gdict\n",
    "    \n",
    "    def addConnection(self,node,connection):\n",
    "        self.gdict[node].append(connection)\n",
    "        \n",
    "    def countNode(self):\n",
    "        return len(self.gdict)\n",
    "    \n",
    "    def countConnection(self,node):\n",
    "        return len(self.gdict[node])\n",
    "       \n",
    "    def addNode(self,newnode):\n",
    "        self.gdict[newnode]=[]\n",
    "        \n",
    "    def showNode(self):\n",
    "        return self.gdict.keys()\n",
    "        \n",
    "    def showGraph(self):\n",
    "        return self.gdict\n",
    "    \n",
    "    def bfs_traversal(self,vertex):\n",
    "        queue=[vertex]\n",
    "        visited=[vertex]\n",
    "        while queue:\n",
    "            devertex=queue.pop(0)\n",
    "            print(devertex)\n",
    "            for  adj_vertex in self.gdict[devertex]:\n",
    "                if adj_vertex not in visited:\n",
    "                    queue.append(adj_vertex)\n",
    "                    visited.append(adj_vertex)\n",
    "        \n",
    "    \n",
    "    def dfs_traversal(self,vertex):\n",
    "        stack=[vertex]\n",
    "        visited=[vertex]\n",
    "        while stack:\n",
    "            devertex=stack.pop()\n",
    "            print(devertex)\n",
    "            for adj_vertex in self.gdict[devertex]:\n",
    "                if adj_vertex not in visited:\n",
    "                    stack.append(adj_vertex)\n",
    "                    visited.append(adj_vertex)\n",
    "        "
   ]
  },
  {
   "cell_type": "code",
   "execution_count": 103,
   "metadata": {},
   "outputs": [
    {
     "name": "stdout",
     "output_type": "stream",
     "text": [
      "niraj\n",
      "suman\n",
      "raghav\n",
      "vikash\n",
      "ranjit\n",
      "ashwini\n",
      "ronit\n",
      "nigar\n",
      "eric\n",
      "jojo\n",
      "jasmin\n",
      "archna\n",
      "oppo\n",
      "sanju\n",
      "rakhi\n",
      "abhi\n",
      "puja\n"
     ]
    }
   ],
   "source": [
    "g=Graph(mynetwork)\n",
    "g.addNode(\"ruhi\")\n",
    "g.dfs_traversal(\"niraj\")"
   ]
  },
  {
   "cell_type": "code",
   "execution_count": 52,
   "metadata": {},
   "outputs": [],
   "source": [
    "db = [[0,1,0,5,0],\n",
    "      [1,0,6,0,3],\n",
    "      [0,6,0,2,7],\n",
    "      [5,0,2,0,0],\n",
    "      [0,3,7,0,0]]\n"
   ]
  },
  {
   "cell_type": "code",
   "execution_count": 53,
   "metadata": {},
   "outputs": [],
   "source": [
    "class Graph:\n",
    "    def __init__(self, db):\n",
    "        self.db=db\n",
    "    \n",
    "    def get_adjacent_node(self, node):\n",
    "        return [self.db[node].index(i) for i in self.db[node] if i!=0]\n",
    "    \n",
    "    def get_cost(self, start, end):\n",
    "        return self.db[start][end]\n",
    "    \n",
    "    def get_all_path(self, source, destination):\n",
    "        cost=[0]\n",
    "        path=[]\n",
    "        visited=[source]\n",
    "        stack=[source]\n",
    "        cost_=0\n",
    "        result=[]\n",
    "        while stack:\n",
    "            cost_=cost_ + cost.pop()\n",
    "            pop=stack.pop()\n",
    "            path.append(pop)\n",
    "            if pop is destination:\n",
    "                result.append([path,cost_])\n",
    "                path=[source]\n",
    "                cost_=0\n",
    "                continue\n",
    "            for adjacent in self.get_adjacent_node(pop):\n",
    "                if adjacent not in visited:\n",
    "                    if adjacent is destination:\n",
    "                        cost.append(self.get_cost(pop,adjacent))\n",
    "                        continue\n",
    "                    stack.append(adjacent)\n",
    "                    cost.append(self.get_cost(pop,adjacent))\n",
    "                    visited.append(adjacent)\n",
    "                    \n",
    "        return result           \n",
    "                "
   ]
  },
  {
   "cell_type": "code",
   "execution_count": 63,
   "metadata": {},
   "outputs": [
    {
     "data": {
      "text/plain": [
       "[3, 4, 5, 7]"
      ]
     },
     "execution_count": 63,
     "metadata": {},
     "output_type": "execute_result"
    }
   ],
   "source": [
    "l=[3,4,5,6,7]\n",
    "l.remove(6)\n",
    "l"
   ]
  },
  {
   "cell_type": "code",
   "execution_count": 55,
   "metadata": {},
   "outputs": [
    {
     "data": {
      "text/plain": [
       "[]"
      ]
     },
     "execution_count": 55,
     "metadata": {},
     "output_type": "execute_result"
    }
   ],
   "source": [
    "g=Graph(db)\n",
    "g.get_adjacent_node(0)\n",
    "r=g.get_all_path(0,2)\n",
    "r"
   ]
  },
  {
   "cell_type": "code",
   "execution_count": null,
   "metadata": {},
   "outputs": [],
   "source": []
  }
 ],
 "metadata": {
  "kernelspec": {
   "display_name": "Python 3",
   "language": "python",
   "name": "python3"
  },
  "language_info": {
   "codemirror_mode": {
    "name": "ipython",
    "version": 3
   },
   "file_extension": ".py",
   "mimetype": "text/x-python",
   "name": "python",
   "nbconvert_exporter": "python",
   "pygments_lexer": "ipython3",
   "version": "3.8.3"
  }
 },
 "nbformat": 4,
 "nbformat_minor": 4
}
