{
 "cells": [
  {
   "cell_type": "code",
   "execution_count": 1,
   "metadata": {},
   "outputs": [],
   "source": [
    "class Node:\n",
    "    def __init__(self,left=None,right=None,value=0):\n",
    "        self.left=left\n",
    "        self.right=right\n",
    "        self.value=value\n",
    "    def set_left(self,node):\n",
    "        self.left=node\n",
    "    def set_right(self,node):\n",
    "        self.right=node \n",
    "    def set_value(self,value):\n",
    "        self.value=value\n",
    "    def get_left(self):\n",
    "        return self.left\n",
    "    def get_right(self):\n",
    "        return self.right\n",
    "    def get_value(self):\n",
    "        return self.value\n",
    "   "
   ]
  },
  {
   "cell_type": "code",
   "execution_count": 2,
   "metadata": {},
   "outputs": [],
   "source": [
    "root=Node(value=1)\n",
    "n1=Node(value=3)\n",
    "n2=Node(value=4)\n",
    "n3=Node(value=5)\n",
    "n4=Node(value=7)\n",
    "n5=Node(value=8)\n",
    "n6=Node(value=6)\n",
    "n7=Node(value=9)\n",
    "root.set_left(n1)\n",
    "root.set_right(n2)\n",
    "n1.set_left(n3)\n",
    "n1.set_right(n4)\n",
    "n2.set_left(n5)\n",
    "n2.set_right(n6)\n",
    "n3.set_left(n7)"
   ]
  },
  {
   "cell_type": "code",
   "execution_count": 3,
   "metadata": {},
   "outputs": [],
   "source": [
    "print(root.left.left.left.right)"
   ]
  },
  {
   "cell_type": "code",
   "execution_count": 4,
   "metadata": {},
   "outputs": [],
   "source": [
    "def preorder(self,li):\n",
    "    if self:\n",
    "        li.append(self.value)\n",
    "        preorder(self.left,li)\n",
    "        preorder(self.right,li)\n",
    "    return li\n",
    "    \n",
    "def postorder(self,li):\n",
    "    if self:\n",
    "        preorder(self.left,li)\n",
    "        preorder(self.right,li) \n",
    "        li.append(self.value)\n",
    "    return li\n",
    "            \n",
    "def inorder(self,li):\n",
    "    if self:\n",
    "        inorder(self.left,li)\n",
    "        li.append(self.value)\n",
    "        preorder(self.right,li) \n",
    "    return li\n",
    "            \n",
    "def sum_allnode(node):\n",
    "    if node==None:\n",
    "        return 0\n",
    "    else:\n",
    "        return node.value + sum_allnode(node.left) + sum_allnode(node.right)\n",
    "\n",
    "def sum_leafnode(node):\n",
    "    if node==None:\n",
    "        return 0\n",
    "    if node.left==node.right==None:\n",
    "        return node.value \n",
    "    return sum_leafnode(node.left) + sum_leafnode(node.right)\n",
    "    \n",
    "def height_tree(node):\n",
    "    if node==None:\n",
    "        return 0\n",
    "    else:\n",
    "        return 1 + max(height_tree(node.left),height_tree(node.right))"
   ]
  },
  {
   "cell_type": "code",
   "execution_count": 5,
   "metadata": {},
   "outputs": [],
   "source": [
    "pre=[]\n",
    "post=[]\n",
    "in_=[]\n",
    "print(preorder(root,pre))\n",
    "print(postorder(root,post))\n",
    "print(inorder(root,in_))\n",
    "\n"
   ]
  },
  {
   "cell_type": "code",
   "execution_count": 8,
   "metadata": {},
   "outputs": [
    {
     "name": "stdout",
     "output_type": "stream",
     "text": [
      "30\n",
      "43\n",
      "4\n"
     ]
    }
   ],
   "source": [
    "print(sum_leafnode(root))\n",
    "print(sum_allnode(root))\n",
    "print(height_tree(root))"
   ]
  },
  {
   "cell_type": "code",
   "execution_count": 7,
   "metadata": {},
   "outputs": [],
   "source": [
    "def traversal(root):\n",
    "    stack=[root]\n",
    "    while stack:\n",
    "        node=stack.pop()\n",
    "        print(node.value)\n",
    "        for adjacent in "
   ]
  }
 ],
 "metadata": {
  "kernelspec": {
   "display_name": "Python 3",
   "language": "python",
   "name": "python3"
  },
  "language_info": {
   "codemirror_mode": {
    "name": "ipython",
    "version": 3
   },
   "file_extension": ".py",
   "mimetype": "text/x-python",
   "name": "python",
   "nbconvert_exporter": "python",
   "pygments_lexer": "ipython3",
   "version": "3.8.3"
  }
 },
 "nbformat": 4,
 "nbformat_minor": 4
}
