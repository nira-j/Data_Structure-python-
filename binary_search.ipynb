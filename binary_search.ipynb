{
 "cells": [
  {
   "cell_type": "code",
   "execution_count": null,
   "metadata": {},
   "outputs": [],
   "source": [
    "# Binary search for ascending array using iterative approach\n",
    "arr=[22,33,44,34,56,53,76,89,66,90,97,96,11,12,18,19]\n",
    "# array must be in sorted for binary search\n",
    "arr.sort()\n",
    "start=0\n",
    "end=len(arr)-1\n",
    "def b_search(arr,s,start,end):\n",
    "    while(start<=end):\n",
    "        mid=(start+end)//2\n",
    "        if s == arr[mid]:\n",
    "            return 1\n",
    "        elif s < arr[mid]:\n",
    "            end = mid-1\n",
    "        elif s > arr[mid]:\n",
    "            start = mid+1\n",
    "        \n",
    "    return -1\n",
    "s=66\n",
    "o=b_search(arr,s,start,end)\n",
    "print(o)\n",
    "    \n",
    "                "
   ]
  },
  {
   "cell_type": "code",
   "execution_count": null,
   "metadata": {},
   "outputs": [],
   "source": [
    "# Binary search for ascending array using recursive approach\n",
    "arr=[22,33,44,34,56,53,76,89,66,90,97,96,11,12,18,19]\n",
    "# array must be in sorted for binary search\n",
    "arr.sort()\n",
    "start=0\n",
    "end=len(arr)-1\n",
    "def binary_search(arr,s,start,end):\n",
    "    mid = (start+end)//2\n",
    "    if start > end:\n",
    "        return -1\n",
    "    elif s == arr[mid]:\n",
    "        return 1\n",
    "    elif s > arr[mid]:\n",
    "        start = mid + 1\n",
    "        return binary_search(arr,s,start,end)\n",
    "    elif s < arr[mid]:\n",
    "        end = mid - 1\n",
    "        return binary_search(arr,s,start,end)\n",
    "\n",
    "print(binary_search(arr,12,start,end))\n",
    "    "
   ]
  },
  {
   "cell_type": "code",
   "execution_count": null,
   "metadata": {},
   "outputs": [],
   "source": [
    "def binary_sarch(arr,s,start,end):\n",
    "    mid=(start+end)//2\n",
    "    if arr[mid]>arr[mid+1]:\n",
    "        while(start<=end):\n",
    "            mid=(start+end)//2\n",
    "            if s==arr[mid]:\n",
    "                return 1\n",
    "            elif s>arr[mid]:\n",
    "                end=mid-1\n",
    "            elif s<arr[mid]:\n",
    "                start=mid+1\n",
    "        return -1 \n",
    "    \n",
    "    elif arr[mid]<arr[mid+1]:\n",
    "        while(start<=end):\n",
    "            mid=(start+end)//2\n",
    "            if s==arr[mid]:\n",
    "                return 1\n",
    "            elif s<arr[mid]:\n",
    "                end=mid-1\n",
    "            elif s>arr[mid]:\n",
    "                start=mid+1\n",
    "        return -1  \n",
    " \n",
    "arr_asc=[22,33,44,34,56,53,76,89,66,90,97,96,11,12,18,19]\n",
    "arr_asc.sort()\n",
    "arr_dsc=[22,33,44,34,56,53,76,89,66,90,97,96,11,12,18,19]\n",
    "arr_dsc.sort(reverse=True)\n",
    "start=0\n",
    "end=len(arr_asc)-1\n",
    "s=76\n",
    "binary_sarch(arr_dsc,s,start,end)"
   ]
  },
  {
   "cell_type": "code",
   "execution_count": 22,
   "metadata": {},
   "outputs": [
    {
     "name": "stdout",
     "output_type": "stream",
     "text": [
      "[1, 1, 1, 2, 2, 2, 3, 3, 3, 4, 4, 4, 4, 5, 5, 5, 6, 6, 6, 8, 8, 8, 8, 8, 8]\n",
      "first occurance: 0\n"
     ]
    }
   ],
   "source": [
    "# getting first occurance of a element from a sorted list\n",
    "def first_index(arr,s):\n",
    "    start=0\n",
    "    end=len(arr)-1\n",
    "    res=-1\n",
    "    while(start<=end):\n",
    "        mid=(start+end)//2\n",
    "        if s == arr[mid]:\n",
    "            res=mid\n",
    "            end=mid-1\n",
    "            \n",
    "        elif s < arr[mid]:\n",
    "            end = mid-1\n",
    "        elif s > arr[mid]:\n",
    "            start = mid+1\n",
    "        \n",
    "    return res\n",
    "    \n",
    "\n",
    "arr=[1,1,1,2,2,2,3,3,3,4,4,4,4,5,5,5,6,6,6,8,8,8,8,8,8]\n",
    "arr.sort()\n",
    "res=first_index(arr,1)\n",
    "print(arr)\n",
    "print(f\"first occurance: {res}\")\n"
   ]
  },
  {
   "cell_type": "code",
   "execution_count": 20,
   "metadata": {},
   "outputs": [
    {
     "name": "stdout",
     "output_type": "stream",
     "text": [
      "[1, 2, 2, 2, 3, 3, 3, 4, 4, 4, 4, 4, 5, 5, 5, 5, 6, 6, 6, 6, 7, 8, 8, 8, 8, 8, 8]\n",
      "last occurance: 3\n"
     ]
    }
   ],
   "source": [
    "# getting first occurance of a element from a sorted list\n",
    "\n",
    "def last_index(arr,s):\n",
    "    start=0\n",
    "    end=len(arr)-1\n",
    "    res=-1    \n",
    "    while(start<=end):\n",
    "        mid=(start+end)//2\n",
    "        if s == arr[mid]:\n",
    "            res=mid\n",
    "            start=mid+1\n",
    "            \n",
    "        elif s < arr[mid]:\n",
    "            end = mid-1\n",
    "        elif s > arr[mid]:\n",
    "            start = mid+1\n",
    "        \n",
    "    return res\n",
    "\n",
    "arr=[4,2,2,5,2,3,3,3,4,1,4,4,4,5,6,5,5,7,6,6,6,8,8,8,8,8,8]\n",
    "arr.sort()\n",
    "res=last_index(arr,2)\n",
    "print(arr)\n",
    "print(f\"last occurance: {res}\")"
   ]
  },
  {
   "cell_type": "code",
   "execution_count": null,
   "metadata": {},
   "outputs": [],
   "source": [
    "# searching a element from a nearly sorted array\n",
    "arr=[12,13,15,14,16,17,20,18,19]"
   ]
  },
  {
   "cell_type": "code",
   "execution_count": 19,
   "metadata": {},
   "outputs": [
    {
     "name": "stdout",
     "output_type": "stream",
     "text": [
      "7\n"
     ]
    }
   ],
   "source": [
    "# rotated sorted array\n",
    "# arr=[12,13,15,14,16,17,20,18,19,30,32,35]\n",
    "arr=[14,15,16,17,18,19,20,30,32,35,5,6,7,8,9,10,13]\n",
    "start=0\n",
    "end=len(arr)-1\n",
    "def myfun(arr,start,end):\n",
    "    n=len(arr)\n",
    "    while start <= end:\n",
    "        mid=(start+end)//2\n",
    "        if arr[(mid-1)]>arr[mid] and arr[(mid+1)%n]>arr[mid]:\n",
    "            res=len(arr)-mid\n",
    "            return res\n",
    "        elif arr[mid]>arr[end]:\n",
    "            start=mid+1\n",
    "        else:\n",
    "            end=mid-1\n",
    "    return -1\n",
    "\n",
    "print(myfun(arr,start,end))\n",
    "    \n",
    "        "
   ]
  },
  {
   "cell_type": "code",
   "execution_count": 20,
   "metadata": {},
   "outputs": [
    {
     "name": "stdout",
     "output_type": "stream",
     "text": [
      "-1\n"
     ]
    }
   ],
   "source": [
    "# find an element from a rotated sorted array\n",
    "\n",
    "def b_search(arr,s,start,end):\n",
    "    while(start<=end):\n",
    "        mid=(start+end)//2\n",
    "        if s == arr[mid]:\n",
    "            return 1\n",
    "        elif s < arr[mid]:\n",
    "            end = mid-1\n",
    "        elif s > arr[mid]:\n",
    "            start = mid+1\n",
    "        \n",
    "    return -1\n",
    "\n",
    "arr=[14,15,16,17,18,19,20,30,32,35,4,5,6,10,13]\n",
    "start=0\n",
    "end=len(arr)-1\n",
    "def myfun(arr,s,start,end):\n",
    "    n=len(arr)\n",
    "    while start <= end:\n",
    "        mid=(start+end)//2\n",
    "        if arr[(mid-1)]>arr[mid] and arr[(mid+1)%n]>arr[mid]:\n",
    "            end=mid-1\n",
    "            s1=mid+1\n",
    "            out=b_search(arr,s,s1,end)\n",
    "            if out == -1:\n",
    "                out=b_search(arr,s,start,end)\n",
    "            return out\n",
    "\n",
    "        elif arr[mid]>arr[end]:\n",
    "            start=mid+1\n",
    "        else:\n",
    "            end=mid-1\n",
    "    return -1\n",
    "\n",
    "s=35\n",
    "print(myfun(arr,s,start,end))"
   ]
  },
  {
   "cell_type": "code",
   "execution_count": null,
   "metadata": {},
   "outputs": [],
   "source": [
    "# finding floor value from a rotated sorted array\n",
    "\n",
    "# arr=[5,10,15,18,20,25,28,30,32,35,38,41,45,52,55,57]\n",
    "arr=list(range(0,100,5))\n",
    "print(arr)\n",
    "start=0\n",
    "end=len(arr)-1\n",
    "\n",
    "def floor_value(arr,s,start,end):\n",
    "    res=-1\n",
    "    while(start<=end):\n",
    "        mid=(start+end)//2\n",
    "        if arr[mid]==s:\n",
    "            res=arr[mid]\n",
    "            return res\n",
    "        elif arr[mid]>s:\n",
    "            end=mid-1\n",
    "#           for cieling value add this line\n",
    "#           res=arr[mid]\n",
    "        elif arr[mid]<s:\n",
    "            res=arr[mid]\n",
    "            start=mid+1\n",
    "    \n",
    "    return res\n",
    "                \n",
    "inp=int(input(\"Enter a number to find floor value: \"))\n",
    "print(flaoor_value(arr,inp))              \n",
    "print(floor_value(arr,inp,start,end))                   \n",
    "        "
   ]
  },
  {
   "cell_type": "code",
   "execution_count": null,
   "metadata": {},
   "outputs": [],
   "source": [
    "# getting floor value using linear search\n",
    "arr=list(range(0,100,5))\n",
    "print(\"Finding floor value from given array....\")\n",
    "print(arr)\n",
    "def flaoor_value(arr,s):\n",
    "    res=-1\n",
    "    for i in arr:\n",
    "        if i<s:\n",
    "            res=i\n",
    "        elif i>s:\n",
    "            break\n",
    "        else:\n",
    "            res=i\n",
    "            break\n",
    "    return res\n",
    "\n",
    "inp=int(input(\"Enter a number to find floor value: \"))\n",
    "print(flaoor_value(arr,inp))"
   ]
  },
  {
   "cell_type": "code",
   "execution_count": null,
   "metadata": {},
   "outputs": [],
   "source": [
    "sentence=\"enter a number to find floor value hii this is niraj kumar i hope you\"\n",
    "sentence_=sentence.split(\" \")\n",
    "sentence_.sort()\n",
    "def search(sentence,word):\n",
    "    start=0\n",
    "    end=len(sentence)-1\n",
    "    while(start<=end):\n",
    "        mid=(start+end)//2\n",
    "        if sentence[mid]==word:\n",
    "            return 1\n",
    "        elif sentence[mid]>word:\n",
    "            end=mid-1\n",
    "        elif sentence[mid]<word:\n",
    "            start=mid+1  \n",
    "    return -1\n",
    "\n",
    "print(search(sentence_,\"you\"))"
   ]
  },
  {
   "cell_type": "code",
   "execution_count": null,
   "metadata": {},
   "outputs": [],
   "source": [
    "# finding out number of negative numbers from a sorted array using binary search\n",
    "\n",
    "arr=list(range(45,-45,-3))\n",
    "\n",
    "start=0\n",
    "end=len(arr)-1\n",
    "\n",
    "def myfun(arr,start,end):\n",
    "    res=-1\n",
    "    while(start<=end):\n",
    "        mid=(start+end)//2\n",
    "        if arr[mid]<0:\n",
    "            res=mid\n",
    "            if arr[mid-1]>arr[mid]:\n",
    "                end=mid-1\n",
    "            elif arr[mid+1]>arr[mid]:\n",
    "                start=mid+1\n",
    "        elif arr[mid]>0:\n",
    "            if arr[mid-1]<arr[mid]:\n",
    "                end=mid-1\n",
    "            elif arr[mid+1]<arr[mid]:\n",
    "                start=mid+1\n",
    "    return res\n",
    "print(myfun(arr,start,end))           "
   ]
  },
  {
   "cell_type": "code",
   "execution_count": null,
   "metadata": {},
   "outputs": [],
   "source": [
    "# finding minmum element using binary search\n",
    "arr=[22,33,44,34,56,53,76,89,66,90,97,96,11,12,18,19]\n",
    "start=0\n",
    "end=len(arr)-1\n",
    "\n",
    "def minimum(arr,start,end):\n",
    "    while(start<=end):\n",
    "        mid=(start+end)//2\n",
    "        if arr[mid]<arr[mid+1] and arr[mid]<arr[mid]-1:\n",
    "            return mid\n",
    "        "
   ]
  },
  {
   "cell_type": "code",
   "execution_count": 10,
   "metadata": {},
   "outputs": [
    {
     "name": "stdout",
     "output_type": "stream",
     "text": [
      "[44, 34, 23, 12, 9, 9, 8, 7, 6, 5, -3, -4, -4, -5, -7, -9]\n",
      "number of negative number: 6\n"
     ]
    }
   ],
   "source": [
    "# getting first occurance of a element from a sorted list\n",
    "def binary_search(arr,s,start,end):\n",
    "    res=-1\n",
    "    while(start<=end):\n",
    "        mid=(start+end)//2\n",
    "        if arr[mid]<0:\n",
    "            res=mid\n",
    "            end=mid-1\n",
    "            \n",
    "        elif arr[mid]>=0:\n",
    "            start = mid+1\n",
    "#         elif arr[mid]:\n",
    "#             start = mid+1\n",
    "        \n",
    "    return res\n",
    "    \n",
    "\n",
    "arr=[12,-3,-4,9,5,6,7,8,9,23,44,-9,-5,-4,-7,34]\n",
    "arr.sort(reverse=True)\n",
    "start=0\n",
    "end=len(arr)-1\n",
    "res=binary_search(arr,40,start,end)\n",
    "print(arr)\n",
    "print(f\"number of negative number: {len(arr)-res}\")"
   ]
  },
  {
   "cell_type": "code",
   "execution_count": 15,
   "metadata": {},
   "outputs": [],
   "source": [
    "# searching elements from  \n",
    "db=[[11,22,33,44,55],\n",
    "   [13,23,34,46,57],\n",
    "   [15,25,37,48,59],\n",
    "   [17,28,39,51,61],\n",
    "   [19,31,41,55,64]]\n",
    "\n",
    "m=len(db)\n",
    "n=len(db[0])\n",
    "\n",
    "def binarysearch(db,key):\n",
    "    i=0\n",
    "    j=n-1\n",
    "    while(j>=0):\n",
    "        if db[i][j]==key:\n",
    "            return i+1,j+1\n",
    "        elif db[i][j]>key:\n",
    "            j-=1\n",
    "        elif db[i][j]<key:\n",
    "            i+=1\n",
    "    return -1"
   ]
  },
  {
   "cell_type": "code",
   "execution_count": 17,
   "metadata": {},
   "outputs": [
    {
     "data": {
      "text/plain": [
       "-1"
      ]
     },
     "execution_count": 17,
     "metadata": {},
     "output_type": "execute_result"
    }
   ],
   "source": [
    "binarysearch(db,5)"
   ]
  },
  {
   "cell_type": "code",
   "execution_count": 58,
   "metadata": {},
   "outputs": [
    {
     "data": {
      "text/plain": [
       "18"
      ]
     },
     "execution_count": 58,
     "metadata": {},
     "output_type": "execute_result"
    }
   ],
   "source": [
    "class Stack:\n",
    "    def __init__(self):\n",
    "        self.stack=[]\n",
    "        \n",
    "    def push(self,item):\n",
    "        self.stack.append(item)\n",
    "        \n",
    "    def pop(self):\n",
    "        self.stack.pop()\n",
    "    \n",
    "    def top(self):\n",
    "        return self.stack[len(self.stack)-1]\n",
    "        \n",
    "    def __len__(self):\n",
    "        return len(self.stack)\n",
    "        \n",
    "    def __str__(self):\n",
    "        return str(self.stack)\n",
    "    \n",
    "    def __repr__(self):\n",
    "        return str(self.stack)\n",
    "        \n",
    "s=Stack()\n",
    "s.push(12)\n",
    "s.push(16)\n",
    "s.push(17)\n",
    "s.push(18)\n",
    "s.top()\n",
    "# len(s)"
   ]
  },
  {
   "cell_type": "code",
   "execution_count": 67,
   "metadata": {},
   "outputs": [],
   "source": [
    "\n",
    "def nearest_greatest_element(arr):\n",
    "    s=Stack()\n",
    "    v=[]\n",
    "    for i in range(len(arr)):\n",
    "        if len(s)==0:\n",
    "            v.append(-1)\n",
    "        \n",
    "        elif len(s) > 0 and s.top() > arr[i]: \n",
    "            v.append(s.top())\n",
    "            \n",
    "        elif len(s) > 0 and s.top() <= arr[i]: \n",
    "            while(len(s) > 0 and s.top() <= arr[i]):\n",
    "                s.pop()\n",
    "                if len(s)==0:\n",
    "                    v.append(-1)\n",
    "                elif s.top() > arr[i]:\n",
    "                    v.append(s.top())\n",
    "        else:\n",
    "            v.append(-1)\n",
    "        s.push(arr[i])\n",
    "        \n",
    "    return v\n"
   ]
  },
  {
   "cell_type": "code",
   "execution_count": 68,
   "metadata": {},
   "outputs": [
    {
     "data": {
      "text/plain": [
       "[-1, 5, 5, 4, 4, -1, -1, 8]"
      ]
     },
     "execution_count": 68,
     "metadata": {},
     "output_type": "execute_result"
    }
   ],
   "source": [
    "arr=[5,3,4,1,2,6,8,7]\n",
    "nearest_greatest_element(arr)\n"
   ]
  },
  {
   "cell_type": "code",
   "execution_count": 69,
   "metadata": {},
   "outputs": [
    {
     "data": {
      "text/plain": [
       "0"
      ]
     },
     "execution_count": 69,
     "metadata": {},
     "output_type": "execute_result"
    }
   ],
   "source": [
    "arr=[]\n",
    "len(arr)"
   ]
  }
 ],
 "metadata": {
  "kernelspec": {
   "display_name": "Python 3",
   "language": "python",
   "name": "python3"
  },
  "language_info": {
   "codemirror_mode": {
    "name": "ipython",
    "version": 3
   },
   "file_extension": ".py",
   "mimetype": "text/x-python",
   "name": "python",
   "nbconvert_exporter": "python",
   "pygments_lexer": "ipython3",
   "version": "3.8.3"
  }
 },
 "nbformat": 4,
 "nbformat_minor": 4
}
